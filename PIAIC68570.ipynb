{
 "cells": [
  {
   "cell_type": "code",
   "execution_count": 4,
   "metadata": {},
   "outputs": [],
   "source": [
    "import numpy as np"
   ]
  },
  {
   "cell_type": "code",
   "execution_count": 3,
   "metadata": {},
   "outputs": [
    {
     "name": "stdout",
     "output_type": "stream",
     "text": [
      "pakistan\n"
     ]
    }
   ],
   "source": [
    "def function1():print(\"china\")\n",
    "def function1():print(\"pakistan\")\n",
    "function1()\n"
   ]
  },
  {
   "cell_type": "code",
   "execution_count": 30,
   "metadata": {},
   "outputs": [
    {
     "name": "stdout",
     "output_type": "stream",
     "text": [
      "6\n",
      "6\n"
     ]
    }
   ],
   "source": [
    "\n",
    "l1=(1,2,3)\n",
    "print(sum(l1))\n",
    "print(np.sum(l1))\n"
   ]
  },
  {
   "cell_type": "code",
   "execution_count": 33,
   "metadata": {},
   "outputs": [
    {
     "data": {
      "text/plain": [
       "array([    6,     7,     8, ..., 30002, 30003, 30004])"
      ]
     },
     "execution_count": 33,
     "metadata": {},
     "output_type": "execute_result"
    }
   ],
   "source": [
    "\n",
    "l1=np.arange(1,30000)\n",
    "l1+5\n"
   ]
  },
  {
   "cell_type": "code",
   "execution_count": 38,
   "metadata": {},
   "outputs": [
    {
     "name": "stdout",
     "output_type": "stream",
     "text": [
      "[ 1  2  3  4  5  6  7  8  9 10 11 12]\n",
      "deminsion 1\n",
      "datatype int32\n"
     ]
    }
   ],
   "source": [
    "\n",
    "function1=np.arange(1,13)\n",
    "print(function1)\n",
    "print('deminsion',l1.ndim)\n",
    "print('datatype',function1.dtype)\n"
   ]
  },
  {
   "cell_type": "code",
   "execution_count": 12,
   "metadata": {},
   "outputs": [
    {
     "name": "stdout",
     "output_type": "stream",
     "text": [
      "[[ 1  2]\n",
      " [ 3  4]\n",
      " [ 5  6]\n",
      " [ 7  8]\n",
      " [ 9 10]\n",
      " [11 12]]\n"
     ]
    }
   ],
   "source": [
    "\n",
    "function1=np.arange(1,13).reshape((6,-1))\n",
    "print (function1)\n"
   ]
  },
  {
   "cell_type": "code",
   "execution_count": 13,
   "metadata": {},
   "outputs": [
    {
     "name": "stdout",
     "output_type": "stream",
     "text": [
      "[[[10. 11. 12.]\n",
      "  [13. 14. 15.]\n",
      "  [16. 17. 18.]]\n",
      "\n",
      " [[19. 20. 21.]\n",
      "  [22. 23. 24.]\n",
      "  [25. 26. 27.]]\n",
      "\n",
      " [[28. 29. 30.]\n",
      "  [31. 32. 33.]\n",
      "  [34. 35. 36.]]]\n"
     ]
    }
   ],
   "source": [
    "\n",
    "function2 = np.arange(10,37,dtype=np.float).reshape((3,3,3))\n",
    "print(function2)\n"
   ]
  },
  {
   "cell_type": "code",
   "execution_count": 20,
   "metadata": {},
   "outputs": [
    {
     "name": "stdout",
     "output_type": "stream",
     "text": [
      "[[   1    2    3    4    5    6    7    8    9   10   11   12   13   14\n",
      "    15   16   17   18   19   20   21   22   23   24   25   26   27   28\n",
      "    29   30   31   32   33   34   35   36   37   38   39   40   41   42\n",
      "    43   44   45   46   47   48   49   50   51   52   53   54   55   56\n",
      "    57   58   59   60   61   62   63   64   65   66   67   68   69   70\n",
      "    71   72   73   74   75   76   77   78   79   80   81   82   83   84\n",
      "    85   86   87   88   89   90   91   92   93   94   95   96   97   98\n",
      "    99  100]\n",
      " [ 101  102  103  104  105  106  107  108  109  110  111  112  113  114\n",
      "   115  116  117  118  119  120  121  122  123  124  125  126  127  128\n",
      "   129  130  131  132  133  134  135  136  137  138  139  140  141  142\n",
      "   143  144  145  146  147  148  149  150  151  152  153  154  155  156\n",
      "   157  158  159  160  161  162  163  164  165  166  167  168  169  170\n",
      "   171  172  173  174  175  176  177  178  179  180  181  182  183  184\n",
      "   185  186  187  188  189  190  191  192  193  194  195  196  197  198\n",
      "   199  200]\n",
      " [ 201  202  203  204  205  206  207  208  209  210  211  212  213  214\n",
      "   215  216  217  218  219  220  221  222  223  224  225  226  227  228\n",
      "   229  230  231  232  233  234  235  236  237  238  239  240  241  242\n",
      "   243  244  245  246  247  248  249  250  251  252  253  254  255  256\n",
      "   257  258  259  260  261  262  263  264  265  266  267  268  269  270\n",
      "   271  272  273  274  275  276  277  278  279  280  281  282  283  284\n",
      "   285  286  287  288  289  290  291  292  293  294  295  296  297  298\n",
      "   299  300]\n",
      " [ 301  302  303  304  305  306  307  308  309  310  311  312  313  314\n",
      "   315  316  317  318  319  320  321  322  323  324  325  326  327  328\n",
      "   329  330  331  332  333  334  335  336  337  338  339  340  341  342\n",
      "   343  344  345  346  347  348  349  350  351  352  353  354  355  356\n",
      "   357  358  359  360  361  362  363  364  365  366  367  368  369  370\n",
      "   371  372  373  374  375  376  377  378  379  380  381  382  383  384\n",
      "   385  386  387  388  389  390  391  392  393  394  395  396  397  398\n",
      "   399  400]\n",
      " [ 401  402  403  404  405  406  407  408  409  410  411  412  413  414\n",
      "   415  416  417  418  419  420  421  422  423  424  425  426  427  428\n",
      "   429  430  431  432  433  434  435  436  437  438  439  440  441  442\n",
      "   443  444  445  446  447  448  449  450  451  452  453  454  455  456\n",
      "   457  458  459  460  461  462  463  464  465  466  467  468  469  470\n",
      "   471  472  473  474  475  476  477  478  479  480  481  482  483  484\n",
      "   485  486  487  488  489  490  491  492  493  494  495  496  497  498\n",
      "   499  500]\n",
      " [ 501  502  503  504  505  506  507  508  509  510  511  512  513  514\n",
      "   515  516  517  518  519  520  521  522  523  524  525  526  527  528\n",
      "   529  530  531  532  533  534  535  536  537  538  539  540  541  542\n",
      "   543  544  545  546  547  548  549  550  551  552  553  554  555  556\n",
      "   557  558  559  560  561  562  563  564  565  566  567  568  569  570\n",
      "   571  572  573  574  575  576  577  578  579  580  581  582  583  584\n",
      "   585  586  587  588  589  590  591  592  593  594  595  596  597  598\n",
      "   599  600]\n",
      " [ 601  602  603  604  605  606  607  608  609  610  611  612  613  614\n",
      "   615  616  617  618  619  620  621  622  623  624  625  626  627  628\n",
      "   629  630  631  632  633  634  635  636  637  638  639  640  641  642\n",
      "   643  644  645  646  647  648  649  650  651  652  653  654  655  656\n",
      "   657  658  659  660  661  662  663  664  665  666  667  668  669  670\n",
      "   671  672  673  674  675  676  677  678  679  680  681  682  683  684\n",
      "   685  686  687  688  689  690  691  692  693  694  695  696  697  698\n",
      "   699  700]\n",
      " [ 701  702  703  704  705  706  707  708  709  710  711  712  713  714\n",
      "   715  716  717  718  719  720  721  722  723  724  725  726  727  728\n",
      "   729  730  731  732  733  734  735  736  737  738  739  740  741  742\n",
      "   743  744  745  746  747  748  749  750  751  752  753  754  755  756\n",
      "   757  758  759  760  761  762  763  764  765  766  767  768  769  770\n",
      "   771  772  773  774  775  776  777  778  779  780  781  782  783  784\n",
      "   785  786  787  788  789  790  791  792  793  794  795  796  797  798\n",
      "   799  800]\n",
      " [ 801  802  803  804  805  806  807  808  809  810  811  812  813  814\n",
      "   815  816  817  818  819  820  821  822  823  824  825  826  827  828\n",
      "   829  830  831  832  833  834  835  836  837  838  839  840  841  842\n",
      "   843  844  845  846  847  848  849  850  851  852  853  854  855  856\n",
      "   857  858  859  860  861  862  863  864  865  866  867  868  869  870\n",
      "   871  872  873  874  875  876  877  878  879  880  881  882  883  884\n",
      "   885  886  887  888  889  890  891  892  893  894  895  896  897  898\n",
      "   899  900]\n",
      " [ 901  902  903  904  905  906  907  908  909  910  911  912  913  914\n",
      "   915  916  917  918  919  920  921  922  923  924  925  926  927  928\n",
      "   929  930  931  932  933  934  935  936  937  938  939  940  941  942\n",
      "   943  944  945  946  947  948  949  950  951  952  953  954  955  956\n",
      "   957  958  959  960  961  962  963  964  965  966  967  968  969  970\n",
      "   971  972  973  974  975  976  977  978  979  980  981  982  983  984\n",
      "   985  986  987  988  989  990  991  992  993  994  995  996  997  998\n",
      "   999 1000]]\n",
      "[ 35  70 105 140 175 210 245 280 315 350 385 420 455 490 525 560 595 630\n",
      " 665 700 735 770 805 840 875 910 945 980]\n"
     ]
    }
   ],
   "source": [
    "\n",
    "    #extract those numbers from given array. those are must exist in 5,7 Table\n",
    "    #example [35,70,105,..]\n",
    "    a = np.arange(1,1000+1).reshape((10,100))\n",
    "    print(a)\n",
    "    print(a[(a % 5==0)&(a%7==0)])\n",
    "     #wrtie your code here\n",
    "    "
   ]
  },
  {
   "cell_type": "code",
   "execution_count": 11,
   "metadata": {},
   "outputs": [
    {
     "name": "stdout",
     "output_type": "stream",
     "text": [
      "array before swaping\n",
      "[[0 1 2]\n",
      " [3 4 5]\n",
      " [6 7 8]]\n",
      "\n",
      "after swaping array:\n",
      "[[1 0 2]\n",
      " [4 3 5]\n",
      " [7 6 8]]\n"
     ]
    }
   ],
   "source": [
    "#task4\n",
    "\n",
    "    #Swap columns 1 and 2 in the array arr.\n",
    "   \n",
    "arr = np.arange(9).reshape(3,3)\n",
    "print(\"array before swaping\")\n",
    "print(arr)\n",
    "arr[:,[0,1]]=arr[:,[1,0]]\n",
    "print(\"\\nafter swaping array:\")  \n",
    "print(arr)\n",
    "   # \"\"\"Expected Output:\n",
    "         # array([[1, 0, 2],\n",
    "               # [4, 3, 5],\n",
    "               # [7, 6, 8]])\n",
    "                "
   ]
  },
  {
   "cell_type": "code",
   "execution_count": 23,
   "metadata": {},
   "outputs": [
    {
     "name": "stdout",
     "output_type": "stream",
     "text": [
      "[ 1  2  3  4  5  6  7  8  9 10 11 12 13 14 15 16 17 18 19 20]\n"
     ]
    },
    {
     "data": {
      "text/plain": [
       "array([[0., 0., 0., 0., 0.],\n",
       "       [0., 0., 0., 0., 0.],\n",
       "       [0., 0., 0., 0., 0.],\n",
       "       [0., 0., 0., 0., 0.]])"
      ]
     },
     "execution_count": 23,
     "metadata": {},
     "output_type": "execute_result"
    }
   ],
   "source": [
    "z=np.arange(1,21)\n",
    "print(z)\n",
    "z=np.zeros((4,5))\n",
    "z"
   ]
  },
  {
   "cell_type": "code",
   "execution_count": 22,
   "metadata": {},
   "outputs": [
    {
     "name": "stdout",
     "output_type": "stream",
     "text": [
      "[0. 0. 0. 0. 0. 0. 0. 0. 0. 0.]\n",
      "\n",
      "fifth and eighth value which is 10,20\n",
      "\n",
      "[ 0.  0.  0.  0.  0. 10.  0.  0. 20.  0.]\n"
     ]
    }
   ],
   "source": [
    "#task6\n",
    "\n",
    "    # Create a null vector of size 10 but the fifth and eighth value which is 10,20 respectively\n",
    "   \n",
    "arr =np.zeros(10) #wrtie your code here\n",
    "  \n",
    "print(arr)\n",
    "print(\"\\nfifth and eighth value which is 10,20\\n\")\n",
    "arr[5] = 10\n",
    "arr[8]=20\n",
    "print(arr)\n",
    "   "
   ]
  },
  {
   "cell_type": "code",
   "execution_count": 45,
   "metadata": {},
   "outputs": [
    {
     "name": "stdout",
     "output_type": "stream",
     "text": [
      "[0 0 0 0]\n"
     ]
    },
    {
     "data": {
      "text/plain": [
       "dtype('int64')"
      ]
     },
     "execution_count": 45,
     "metadata": {},
     "output_type": "execute_result"
    }
   ],
   "source": [
    "#task7\n",
    "\n",
    "    #  Create an array of zeros with the same shape and type as X. Dont use reshape method\n",
    "\n",
    "x = np.zeros(4, dtype=np.int64)\n",
    "\n",
    "print(x)\n",
    "x.dtype\n",
    "   \n"
   ]
  },
  {
   "cell_type": "code",
   "execution_count": 26,
   "metadata": {},
   "outputs": [
    {
     "data": {
      "text/plain": [
       "array([[6, 6, 6, 6, 6, 6],\n",
       "       [6, 6, 6, 6, 6, 6]])"
      ]
     },
     "execution_count": 26,
     "metadata": {},
     "output_type": "execute_result"
    }
   ],
   "source": [
    "# Create a new array of 2x5 uints, filled with 6.\n",
    "x = np.full((2,6), 6)\n",
    "x"
   ]
  },
  {
   "cell_type": "code",
   "execution_count": 29,
   "metadata": {},
   "outputs": [
    {
     "name": "stdout",
     "output_type": "stream",
     "text": [
      "[  1   2   3   4   5   6   7   8   9  10  11  12  13  14  15  16  17  18\n",
      "  19  20  21  22  23  24  25  26  27  28  29  30  31  32  33  34  35  36\n",
      "  37  38  39  40  41  42  43  44  45  46  47  48  49  50  51  52  53  54\n",
      "  55  56  57  58  59  60  61  62  63  64  65  66  67  68  69  70  71  72\n",
      "  73  74  75  76  77  78  79  80  81  82  83  84  85  86  87  88  89  90\n",
      "  91  92  93  94  95  96  97  98  99 100]\n"
     ]
    },
    {
     "data": {
      "text/plain": [
       "array([  2,   4,   6,   8,  10,  12,  14,  16,  18,  20,  22,  24,  26,\n",
       "        28,  30,  32,  34,  36,  38,  40,  42,  44,  46,  48,  50,  52,\n",
       "        54,  56,  58,  60,  62,  64,  66,  68,  70,  72,  74,  76,  78,\n",
       "        80,  82,  84,  86,  88,  90,  92,  94,  96,  98, 100])"
      ]
     },
     "execution_count": 29,
     "metadata": {},
     "output_type": "execute_result"
    }
   ],
   "source": [
    "#task9\n",
    "    # Create an array of 2, 4, 6, 8, ..., 100.\n",
    "     \n",
    "a=np.arange(1,101)# write your code here\n",
    "  \n",
    "print(a)\n",
    "\n",
    "a[(a%2==0)]\n"
   ]
  },
  {
   "cell_type": "code",
   "execution_count": 13,
   "metadata": {},
   "outputs": [
    {
     "name": "stdout",
     "output_type": "stream",
     "text": [
      "[[-2 -1  0]\n",
      " [-3 -2 -1]\n",
      " [-4 -3 -2]]\n"
     ]
    }
   ],
   "source": [
    " #task10 abi rehta hy\n",
    "arr = np.array([[3,3,3],[4,4,4],[5,5,5]])\n",
    "brr = np.array([1,2,3])\n",
    "subt =brr-arr # write your code here \n",
    "  \n",
    "print(subt)\n",
    "\n"
   ]
  },
  {
   "cell_type": "code",
   "execution_count": 8,
   "metadata": {},
   "outputs": [
    {
     "name": "stdout",
     "output_type": "stream",
     "text": [
      "[0 1 2 3 4 5 6 7 8 9]\n"
     ]
    },
    {
     "data": {
      "text/plain": [
       "array([-1,  1,  2, -1,  4,  5, -1,  7,  8, -1])"
      ]
     },
     "execution_count": 8,
     "metadata": {},
     "output_type": "execute_result"
    }
   ],
   "source": [
    "#task11\n",
    "#Replace all odd numbers in arr with -1 without changing arr.\n",
    "import numpy as np\n",
    "arr = np.array([0, 1, 2, 3, 4, 5, 6, 7, 8, 9])\n",
    "print(arr)\n",
    "np.where(arr%3==0, -1, arr)\n",
    "#Expected Output:\n",
    "              #array([ 0, -1,  2, -1,  4, -1,  6, -1,  8, -1])"
   ]
  },
  {
   "cell_type": "code",
   "execution_count": 36,
   "metadata": {},
   "outputs": [
    {
     "name": "stdout",
     "output_type": "stream",
     "text": [
      "[1 1 1 2 2 2 3 3 3 1 2 3 1 2 3 1 2 3]\n"
     ]
    }
   ],
   "source": [
    "#task 12\n",
    "#def function12():\n",
    "    # Create the following pattern without hardcoding. Use only numpy functions and the below input array arr.\n",
    "    # HINT: use stacking concept\n",
    "    \n",
    "arr = np.arange(1,4)\n",
    "b =arr.repeat(3) #write your code here\n",
    "ans=np.hstack((b,arr,arr,arr))\n",
    "print(ans)\n",
    "  \n",
    "\n",
    "#\"\"\"\n",
    "#Expected Output:\n",
    "#array([1, 1, 1, 2, 2, 2, 3, 3, 3, 1, 2, 3, 1, 2, 3, 1, 2, 3])\n",
    "#\"\"\" "
   ]
  },
  {
   "cell_type": "code",
   "execution_count": 22,
   "metadata": {},
   "outputs": [
    {
     "data": {
      "text/plain": [
       "array([6, 9])"
      ]
     },
     "execution_count": 22,
     "metadata": {},
     "output_type": "execute_result"
    }
   ],
   "source": [
    "#task13\n",
    "    # Set a condition which gets all items between 5 and 10 from arr.\n",
    "    \n",
    "    \n",
    "arr = np.array([2, 6, 1, 9, 10, 3, 27])\n",
    "arr\n",
    "ans = arr[(arr > 5) & (arr < 10)]\n",
    "ans\n",
    "    #ans = #write your code here \n",
    "  \n",
    "    #return ans\n",
    "\n",
    "    # \"\"\"\n",
    "    # Expected Output:\n",
    "            #  array([6, 9])"
   ]
  },
  {
   "cell_type": "code",
   "execution_count": 15,
   "metadata": {},
   "outputs": [
    {
     "name": "stdout",
     "output_type": "stream",
     "text": [
      "[[10 11 12]\n",
      " [13 14 15]\n",
      " [16 17 18]\n",
      " [19 20 21]\n",
      " [22 23 24]\n",
      " [25 26 27]\n",
      " [28 29 30]\n",
      " [31 32 33]]\n",
      "\n",
      "split 8x3 array into 4 sub array\n",
      "\n",
      "[array([[10, 11, 12],\n",
      "       [13, 14, 15]]), array([[16, 17, 18],\n",
      "       [19, 20, 21]]), array([[22, 23, 24],\n",
      "       [25, 26, 27]]), array([[28, 29, 30],\n",
      "       [31, 32, 33]])]\n"
     ]
    }
   ],
   "source": [
    "#task14\n",
    "\n",
    "    # Create an 8X3 integer array from a range between 10 to 34 such that the difference between each element is 1 and then Split the array into four equal-sized sub-arrays.\n",
    "    # Hint use split method\n",
    "    \n",
    "    \n",
    "arr = np.arange(10, 34, 1) #write reshape code\n",
    "\n",
    "arr=arr.reshape(8,3)\n",
    "print(arr)\n",
    "\n",
    "ans=np.split(arr, 4)\n",
    "print(\"\\nsplit 8x3 array into 4 sub array\\n\")\n",
    "print(ans)\n",
    "  \n",
    "    #return ans\n",
    "\n",
    "    # \"\"\"\n",
    "    # Expected Output:\n",
    "    #   [array([[10, 11, 12],[13, 14, 15]]), \n",
    "    #    array([[16, 17, 18],[19, 20, 21]]), \n",
    "      #  array([[22, 23, 24],[25, 26, 27]]), \n",
    "    #    array([[28, 29, 30],[31, 32, 33]])]\n",
    " "
   ]
  },
  {
   "cell_type": "code",
   "execution_count": 30,
   "metadata": {},
   "outputs": [
    {
     "ename": "IndentationError",
     "evalue": "unexpected indent (<ipython-input-30-a77900f619f0>, line 5)",
     "output_type": "error",
     "traceback": [
      "\u001b[1;36m  File \u001b[1;32m\"<ipython-input-30-a77900f619f0>\"\u001b[1;36m, line \u001b[1;32m5\u001b[0m\n\u001b[1;33m    arr = np.array([[ 8,  2, -2],[-4,  1,  7],[ 6,  3,  9]])\u001b[0m\n\u001b[1;37m    ^\u001b[0m\n\u001b[1;31mIndentationError\u001b[0m\u001b[1;31m:\u001b[0m unexpected indent\n"
     ]
    }
   ],
   "source": [
    "#task15\n",
    "    #Sort following NumPy array by the second column\n",
    "    \n",
    "    \n",
    "arr = np.array([[ 8,  2, -2],[-4,  1,  7],[ 6,  3,  9]])\n",
    "ans = #write your code here \n",
    "  \n",
    "return ans\n",
    "\n",
    "     \"\"\"\n",
    "     Expected Output:\n",
    "           array([[-4,  1,  7],\n",
    "                   [ 8,  2, -2],\n",
    "                   [ 6,  3,  9]])\n",
    "     \"\"\" "
   ]
  },
  {
   "cell_type": "code",
   "execution_count": 36,
   "metadata": {},
   "outputs": [
    {
     "name": "stdout",
     "output_type": "stream",
     "text": [
      "[[[1 2]]\n",
      "\n",
      " [[2 3]]\n",
      "\n",
      " [[3 4]]]\n"
     ]
    }
   ],
   "source": [
    "#task16\n",
    "\n",
    "    #Write a NumPy program to join a sequence of arrays along depth.\n",
    "    \n",
    "    \n",
    "x = np.array([[1], [2], [3]])\n",
    "y = np.array([[2], [3], [4]])\n",
    "x,y\n",
    "arr = np.dstack((x,y))\n",
    "print(arr)\n",
    "\n",
    "    #ans = #write your code here \n",
    "  \n",
    "    #return ans\n",
    "\n",
    "    # Expected Output:\n",
    "         #       [[[1 2]]\n",
    "\n",
    "         #       [[2 3]]\n",
    "\n",
    "         #       [[3 4]]]\n"
   ]
  },
  {
   "cell_type": "code",
   "execution_count": 44,
   "metadata": {},
   "outputs": [
    {
     "name": "stdout",
     "output_type": "stream",
     "text": [
      "[[  1   2   3   4   5   6   7   8   9  10]\n",
      " [ 11  12  13  14  15  16  17  18  19  20]\n",
      " [ 21  22  23  24  25  26  27  28  29  30]\n",
      " [ 31  32  33  34  35  36  37  38  39  40]\n",
      " [ 41  42  43  44  45  46  47  48  49  50]\n",
      " [ 51  52  53  54  55  56  57  58  59  60]\n",
      " [ 61  62  63  64  65  66  67  68  69  70]\n",
      " [ 71  72  73  74  75  76  77  78  79  80]\n",
      " [ 81  82  83  84  85  86  87  88  89  90]\n",
      " [ 91  92  93  94  95  96  97  98  99 100]]\n",
      "\n",
      "after dividing array\n",
      "\n"
     ]
    },
    {
     "data": {
      "text/plain": [
       "array([['no', 'no', 'yes', 'no', 'no', 'yes', 'no', 'no', 'yes', 'no'],\n",
       "       ['no', 'yes', 'no', 'no', 'yes', 'no', 'no', 'yes', 'no', 'no'],\n",
       "       ['yes', 'no', 'no', 'yes', 'no', 'no', 'yes', 'no', 'no', 'yes'],\n",
       "       ['no', 'no', 'yes', 'no', 'no', 'yes', 'no', 'no', 'yes', 'no'],\n",
       "       ['no', 'yes', 'no', 'no', 'yes', 'no', 'no', 'yes', 'no', 'no'],\n",
       "       ['yes', 'no', 'no', 'yes', 'no', 'no', 'yes', 'no', 'no', 'yes'],\n",
       "       ['no', 'no', 'yes', 'no', 'no', 'yes', 'no', 'no', 'yes', 'no'],\n",
       "       ['no', 'yes', 'no', 'no', 'yes', 'no', 'no', 'yes', 'no', 'no'],\n",
       "       ['yes', 'no', 'no', 'yes', 'no', 'no', 'yes', 'no', 'no', 'yes'],\n",
       "       ['no', 'no', 'yes', 'no', 'no', 'yes', 'no', 'no', 'yes', 'no']],\n",
       "      dtype='<U3')"
      ]
     },
     "execution_count": 44,
     "metadata": {},
     "output_type": "execute_result"
    }
   ],
   "source": [
    "#Task17\n",
    "\n",
    "    # replace numbers with \"YES\" if it divided by 3 and 5\n",
    "    # otherwise it will be replaced with \"NO\"\n",
    "    # Hint: np.where\n",
    "arr = np.arange(1,10*10+1).reshape((10,10))\n",
    "print(arr)\n",
    "ans=np.where(arr%3==0,\"yes\",\"no\")\n",
    "print(\"\\nafter dividing array\\n\")\n",
    "ans                                    # Write Your Code HERE\n",
    "\n",
    "#Excpected Out"
   ]
  },
  {
   "cell_type": "code",
   "execution_count": 3,
   "metadata": {},
   "outputs": [
    {
     "name": "stdout",
     "output_type": "stream",
     "text": [
      "[42 52 26 95 53 49 47  8 65 88 20 97 13 86 38 86 26 37 42  9 46  5 53 15\n",
      " 45 17 43 71 18 70]\n",
      "\n",
      "[1 2 3]\n"
     ]
    }
   ],
   "source": [
    "#Task18\n",
    "\n",
    "    # count values of \"students\" are exist in \"piaic\"\n",
    "piaic = np.random.randint(1,100, size=30)\n",
    "cnic = np.random.randint(1,10,size=3)\n",
    "print(piaic, cnic,sep='\\n\\n')\n",
    "\n",
    "    #Expected output: 3\n"
   ]
  },
  {
   "cell_type": "code",
   "execution_count": 33,
   "metadata": {
    "scrolled": true
   },
   "outputs": [
    {
     "name": "stdout",
     "output_type": "stream",
     "text": [
      "[[ 0  1  2  3  4]\n",
      " [ 5  6  7  8  9]\n",
      " [10 11 12 13 14]\n",
      " [15 16 17 18 19]\n",
      " [20 21 22 23 24]]\n"
     ]
    },
    {
     "data": {
      "text/plain": [
       "array([[  5,   6,   9,  14,  21],\n",
       "       [ 30,  41,  54,  69,  86],\n",
       "       [105, 126, 149, 174, 201],\n",
       "       [230, 261, 294, 329, 366],\n",
       "       [405, 446, 489, 534, 581]])"
      ]
     },
     "execution_count": 33,
     "metadata": {},
     "output_type": "execute_result"
    }
   ],
   "source": [
    "# Task19\n",
    "#def function19():\n",
    "  #Create variable \"X\" from 1,25 (both are included) range values\n",
    "    #Convert \"X\" variable dimension into 5 rows and 5 columns\n",
    "    #Create one more variable \"W\" copy of \"X\" \n",
    "    #Swap \"W\" row and column axis (like transpose)\n",
    "    # then create variable \"b\" with value equal to 5\n",
    "    # Now return output as \"(X*W)+b:\n",
    "\n",
    "X =np.arange(5*5).reshape((5,5))\n",
    "X\n",
    "W=X\n",
    "print(X)\n",
    "X.T\n",
    "b=5\n",
    "output=(X*W)+b\n",
    "output\n",
    "\n",
    "\n",
    "   # W =   # Write your code here \n",
    "    #b =   # Write your code here\n",
    "    #output =    # Write your code here\n",
    "    #return output\n",
    "    #expected output\n",
    "   # \"\"\"\n",
    "    #array([[  6,  17,  38,  69, 110],\n",
    "     #  [ 17,  54, 101, 158, 225],\n",
    "      # [ 38, 101, 174, 257, 350],\n",
    "       #[ 69, 158, 257, 366, 485],\n",
    "       #[110, 225, 350, 485, 630]])\n",
    "    #\"\"\"\n"
   ]
  },
  {
   "cell_type": "code",
   "execution_count": 10,
   "metadata": {},
   "outputs": [
    {
     "ename": "IndentationError",
     "evalue": "expected an indented block (<ipython-input-10-cf927d08702e>, line 6)",
     "output_type": "error",
     "traceback": [
      "\u001b[1;36m  File \u001b[1;32m\"<ipython-input-10-cf927d08702e>\"\u001b[1;36m, line \u001b[1;32m6\u001b[0m\n\u001b[1;33m    return=(x*2+3-2)\u001b[0m\n\u001b[1;37m    ^\u001b[0m\n\u001b[1;31mIndentationError\u001b[0m\u001b[1;31m:\u001b[0m expected an indented block\n"
     ]
    }
   ],
   "source": [
    "#Task20\n",
    "\n",
    "    #apply fuction \"abc\" on each value of Array \"X\"\n",
    "x = np.arange(1,11)\n",
    "def abc(x):\n",
    "return=(x*2+3-2)\n",
    "\n",
    "return #Write your Code here\n",
    "#Expected Output: array([ 3,  5,  7,  9, 11, 13, 15, 17, 19, 21])"
   ]
  },
  {
   "cell_type": "code",
   "execution_count": null,
   "metadata": {},
   "outputs": [],
   "source": []
  }
 ],
 "metadata": {
  "kernelspec": {
   "display_name": "Python 3",
   "language": "python",
   "name": "python3"
  },
  "language_info": {
   "codemirror_mode": {
    "name": "ipython",
    "version": 3
   },
   "file_extension": ".py",
   "mimetype": "text/x-python",
   "name": "python",
   "nbconvert_exporter": "python",
   "pygments_lexer": "ipython3",
   "version": "3.9.1"
  }
 },
 "nbformat": 4,
 "nbformat_minor": 4
}
